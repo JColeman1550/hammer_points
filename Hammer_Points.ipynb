{
  "cells": [
    {
      "cell_type": "markdown",
      "metadata": {
        "id": "view-in-github",
        "colab_type": "text"
      },
      "source": [
        "<a href=\"https://colab.research.google.com/github/JColeman1550/hammer_points/blob/main/Hammer_Points.ipynb\" target=\"_parent\"><img src=\"https://colab.research.google.com/assets/colab-badge.svg\" alt=\"Open In Colab\"/></a>"
      ]
    },
    {
      "cell_type": "code",
      "source": [
        "import pandas as pd\n",
        "\n",
        "from google.colab import drive\n",
        "\n",
        "import os\n",
        "\n",
        "# Mount Google Drive\n",
        "drive.mount('/content/drive')\n",
        "\n",
        "\n",
        "# Define file paths\n",
        "file_paths = [\n",
        "    '/content/drive/MyDrive/Hammers/2018_3_innings.csv',\n",
        "    '/content/drive/MyDrive/Hammers/2019_3_innings.csv',\n",
        "    '/content/drive/MyDrive/Hammers/2020_3_innings.csv',\n",
        "    '/content/drive/MyDrive/Hammers/2021_3_innings.csv',\n",
        "    '/content/drive/MyDrive/Hammers/2022_3_inning.csv',\n",
        "    '/content/drive/MyDrive/Hammers/2023_3_inning.csv'\n",
        "]\n",
        "\n",
        "# Create a directory in Google Drive\n",
        "working_directory = '/content/drive/My Drive/HammerData'\n",
        "os.makedirs(working_directory, exist_ok=True)\n",
        "\n",
        "# Copy files to the working directory\n",
        "for file_path in file_paths:\n",
        "    file_name = os.path.basename(file_path)\n",
        "    destination_path = os.path.join(working_directory, file_name)\n",
        "    !cp \"$file_path\" \"$destination_path\"\n",
        "\n",
        "# Change the current working directory to the newly created directory\n",
        "os.chdir(working_directory)"
      ],
      "metadata": {
        "colab": {
          "base_uri": "https://localhost:8080/"
        },
        "id": "8xweZ_3kRrou",
        "outputId": "4527e6c9-cf38-4fd5-ae08-16a2bbe83848"
      },
      "execution_count": 12,
      "outputs": [
        {
          "output_type": "stream",
          "name": "stdout",
          "text": [
            "Drive already mounted at /content/drive; to attempt to forcibly remount, call drive.mount(\"/content/drive\", force_remount=True).\n"
          ]
        }
      ]
    },
    {
      "cell_type": "code",
      "source": [
        "# Define file paths within the working directory in Google Drive\n",
        "hammer_files = [\n",
        "    '/content/drive/MyDrive/Hammers/2018_3_innings.csv',\n",
        "    '/content/drive/MyDrive/Hammers/2019_3_innings.csv',\n",
        "    '/content/drive/MyDrive/Hammers/2020_3_innings.csv',\n",
        "    '/content/drive/MyDrive/Hammers/2021_3_innings.csv',\n",
        "    '/content/drive/MyDrive/Hammers/2022_3_inning.csv',\n",
        "    '/content/drive/MyDrive/Hammers/2023_3_inning.csv'\n",
        "]\n",
        "\n",
        "# Create an empty list to store the data from each CSV file\n",
        "data_list = []\n",
        "\n",
        "# Load and store data from all hammer files\n",
        "for hammer_file in hammer_files:\n",
        "    data = pd.read_csv(hammer_file)\n",
        "    data_list.append(data)\n",
        "\n",
        "# Concatenate all data frames into one\n",
        "combined_data = pd.concat(data_list, ignore_index=True)"
      ],
      "metadata": {
        "id": "A3xz91umDQiG"
      },
      "execution_count": 13,
      "outputs": []
    },
    {
      "cell_type": "code",
      "source": [
        "combined_data"
      ],
      "metadata": {
        "id": "qQDq8eGSYjD9"
      },
      "execution_count": null,
      "outputs": []
    },
    {
      "cell_type": "code",
      "source": [
        "# Extract unique event types\n",
        "unique_events = combined_data['events'].unique()\n",
        "\n",
        "# Create individual columns for each event type\n",
        "for event in unique_events:\n",
        "    combined_data[event] = 0\n",
        "\n",
        "# Iterate through the rows and populate the event columns\n",
        "for index, row in combined_data.iterrows():\n",
        "    events = row['events'].split(',')\n",
        "    for event in events:\n",
        "        combined_data.at[index, event] += 1\n",
        "\n",
        "# Define the point system\n",
        "point_system = {\n",
        "    'double': 1,\n",
        "    'triple': 1,\n",
        "    'walk': 1,\n",
        "    'hit_by_pitch': 1,\n",
        "    'home_run': 2,\n",
        "    'single': 0.5,\n",
        "    'strikeout': -1,\n",
        "    'strikeout_double_play': -1\n",
        "}\n",
        "\n",
        "# Calculate \"Hammer Points\" for each row\n",
        "combined_data['Hammer Points'] = combined_data.apply(\n",
        "    lambda row: sum(point_system[event] * row[event] for event in unique_events if event in point_system),\n",
        "    axis=1\n",
        ")\n",
        "\n",
        "# Sort the DataFrame in ascending order of Hammer Points (rows with fewer points are better)\n",
        "combined_data = combined_data.sort_values(by='Hammer Points', ascending=True)\n",
        "\n",
        "# Save the DataFrame to a new CSV file\n",
        "combined_data.to_csv('HammerPoints.csv', index=False)\n",
        "\n",
        "# Display the top rows with the least number of Hammer Points\n",
        "print(combined_data.head(10))"
      ],
      "metadata": {
        "id": "Pz5NVL9IZ2h3"
      },
      "execution_count": null,
      "outputs": []
    },
    {
      "cell_type": "code",
      "source": [
        "# Create a function to calculate and display the total Hammer Points for a specific pitcher\n",
        "def display_total_hammer_points(pitcher_name):\n",
        "    pitcher_data = combined_data[combined_data['player_name'] == pitcher_name]\n",
        "\n",
        "    if pitcher_data.empty:\n",
        "        print(f\"No data found for pitcher '{pitcher_name}'.\")\n",
        "    else:\n",
        "        total_points = pitcher_data['Hammer Points'].sum()  # Sum of all seasons\n",
        "        total_points_per_season = total_points / 5  # Divide by 5 seasons\n",
        "        total_points_per_season = round(total_points_per_season, 2)\n",
        "        print(f\"Total Hammer Points Per Season (2018-23) '{pitcher_name}': {total_points_per_season:.2f}\")\n",
        "\n",
        "# Interactive loop (Last, First)\n",
        "while True:\n",
        "    pitcher_name = input(\"\\nEnter the name of the pitcher (or 'exit' to quit): \").strip()\n",
        "\n",
        "    if pitcher_name.lower() == 'exit':\n",
        "        break\n",
        "\n",
        "    display_total_hammer_points(pitcher_name)"
      ],
      "metadata": {
        "id": "JXbkVgHxDnS1"
      },
      "execution_count": null,
      "outputs": []
    },
    {
      "cell_type": "code",
      "source": [
        "#Packages for scatterplot\n",
        "\n",
        "%%capture\n",
        "!pip install plotly\n",
        "import plotly.express as px\n",
        "import matplotlib.pyplot as plt"
      ],
      "metadata": {
        "id": "G8T8_Uq-HHzw"
      },
      "execution_count": 18,
      "outputs": []
    },
    {
      "cell_type": "code",
      "source": [
        "# Calculate total Hammer Points for each pitcher\n",
        "pitcher_totals = combined_data.groupby('player_name')['Hammer Points'].sum() / 5   # 5 full seasons\n",
        "pitcher_totals = pitcher_totals.reset_index()  # Reset index to include pitcher names as a column\n",
        "\n",
        "\n",
        "\n",
        "# interactive scatterplot using Plotly\n",
        "fig = px.scatter(pitcher_totals, x='Hammer Points', y='player_name', title='Hammer Points Per Season (2019-2023)',\n",
        "                 hover_name='player_name', hover_data=['Hammer Points'])\n",
        "\n",
        "\n",
        "# hover template to display Hammer Points directly\n",
        "fig.update_traces(\n",
        "    hovertemplate='<br>'.join([\n",
        "        'Pitcher: %{hovertext}',\n",
        "        'Avg HP: %{x:.2f}',  # Display Hammer Points directly\n",
        "    ])\n",
        ")\n",
        "\n",
        "\n",
        "\n",
        "fig.update_xaxes(showticklabels=True, title='HP Per Season (2018-23)')\n",
        "fig.update_yaxes(showticklabels=False,title=None)\n",
        "\n",
        "fig.show()"
      ],
      "metadata": {
        "colab": {
          "base_uri": "https://localhost:8080/",
          "height": 542
        },
        "id": "WM_uzCZ8Jj4K",
        "outputId": "ac540234-148f-45e8-90dd-e1264236d46c"
      },
      "execution_count": 20,
      "outputs": [
        {
          "output_type": "display_data",
          "data": {
            "text/html": [
              "<html>\n",
              "<head><meta charset=\"utf-8\" /></head>\n",
              "<body>\n",
              "    <div>            <script src=\"https://cdnjs.cloudflare.com/ajax/libs/mathjax/2.7.5/MathJax.js?config=TeX-AMS-MML_SVG\"></script><script type=\"text/javascript\">if (window.MathJax && window.MathJax.Hub && window.MathJax.Hub.Config) {window.MathJax.Hub.Config({SVG: {font: \"STIX-Web\"}});}</script>                <script type=\"text/javascript\">window.PlotlyConfig = {MathJaxConfig: 'local'};</script>\n",
              "        <script charset=\"utf-8\" src=\"https://cdn.plot.ly/plotly-2.24.1.min.js\"></script>                <div id=\"29eb1634-e29f-4d3d-b8a5-d1815a02c561\" class=\"plotly-graph-div\" style=\"height:525px; width:100%;\"></div>            <script type=\"text/javascript\">                                    window.PLOTLYENV=window.PLOTLYENV || {};                                    if (document.getElementById(\"29eb1634-e29f-4d3d-b8a5-d1815a02c561\")) {                    Plotly.newPlot(                        \"29eb1634-e29f-4d3d-b8a5-d1815a02c561\",                        [{\"hovertemplate\":\"Pitcher: %{hovertext}\\u003cbr\\u003eAvg HP: %{x:.2f}\",\"hovertext\":[\"Abbott, Andrew\",\"Abbott, Cory\",\"Adams, Austin\",\"Adams, Chance\",\"Adon, Joan\",\"Agrazal, Dario\",\"Akin, Keegan\",\"Albers, Andrew\",\"Alcantara, Sandy\",\"Alexander, Jason\",\"Alexander, Scott\",\"Alexander, Tyler\",\"Alexy, A.J.\",\"Allard, Kolby\",\"Allen, Logan\",\"Alvarado, Jos\\u00e9\",\"Alvarez, Jose\",\"Alzolay, Adbert\",\"Anderson, Brett\",\"Anderson, Chase\",\"Anderson, Drew\",\"Anderson, Ian\",\"Anderson, Shaun\",\"Anderson, Tanner\",\"Anderson, Tyler\",\"Andriese, Matt\",\"Antone, Tejay\",\"Archer, Chris\",\"Arihara, Kohei\",\"Armenteros, Rogelio\",\"Armstrong, Shawn\",\"Arrieta, Jake\",\"Ashby, Aaron\",\"Ashcraft, Graham\",\"Assad, Javier\",\"Avila, Pedro\",\"Axford, John\",\"Baez, Michel\",\"Bailey, Homer\",\"Baker, Bryan\",\"Banda, Anthony\",\"Banks, Tanner\",\"Baragar, Caleb\",\"Bard, Luke\",\"Barnes, Charlie\",\"Barria, Jaime\",\"Bass, Anthony\",\"Bassitt, Chris\",\"Battenfield, Peyton\",\"Bauer, Trevor\",\"Baumann, Mike\",\"Bautista, Gerson\",\"Baz, Shane\",\"Ba\\u00f1uelos, Manny\",\"Beck, Tristan\",\"Bedrosian, Cam\",\"Beede, Tyler\",\"Beeks, Jalen\",\"Bellatti, Andrew\",\"Bello, Brayan\",\"Bender, Anthony\",\"Benjamin, Wes\",\"Bergman, Christian\",\"Bernardino, Brennan\",\"Berr\\u00edos, Jos\\u00e9\",\"Bettis, Chad\",\"Biagini, Joe\",\"Bibee, Tanner\",\"Bibens-Dirkx, Austin\",\"Bido, Osvaldo\",\"Bieber, Shane\",\"Bielak, Brandon\",\"Bird, Jake\",\"Blach, Ty\",\"Blackburn, Paul\",\"Blanco, Ronel\",\"Bleier, Richard\",\"Blevins, Jerry\",\"Bola\\u00f1os, Ronald\",\"Borucki, Ryan\",\"Boshers, Buddy\",\"Bowlan, Jonathan\",\"Boyd, Matthew\",\"Boyle, Joe\",\"Bradford, Cody\",\"Bradish, Kyle\",\"Bradley, Archie\",\"Bradley, Taj\",\"Brasier, Ryan\",\"Brault, Steven\",\"Braymer, Ben\",\"Brebbia, John\",\"Brewer, Colten\",\"Brice, Austin\",\"Brieske, Beau\",\"Brigham, Jeff\",\"Brito, Jhony\",\"Brogdon, Connor\",\"Brooks, Aaron\",\"Brown, Hunter\",\"Brubaker, JT\",\"Bruihl, Justin\",\"Bubic, Kris\",\"Buchholz, Clay\",\"Buehler, Walker\",\"Bumgarner, Madison\",\"Bundy, Dylan\",\"Burke, Brock\",\"Burnes, Corbin\",\"Burr, Ryan\",\"Burrows, Beau\",\"Bush, Matt\",\"Butto, Jos\\u00e9\",\"Cabrera, Edward\",\"Cabrera, G\\u00e9nesis\",\"Cahill, Trevor\",\"Canning, Griffin\",\"Carasiti, Matt\",\"Carpenter, Ryan\",\"Carrasco, Carlos\",\"Cashner, Andrew\",\"Castano, Daniel\",\"Castellani, Ryan\",\"Castellanos, Humberto\",\"Castillo, Diego\",\"Castillo, Luis\",\"Castillo, Max\",\"Castro, Miguel\",\"Cavalli, Cade\",\"Cease, Dylan\",\"Cecconi, Slade\",\"Cessa, Luis\",\"Chac\\u00edn, Jhoulys\",\"Chargois, JT\",\"Chatwood, Tyler\",\"Chavez, Jesse\",\"Chen, Wei-Yin\",\"Chirinos, Yonny\",\"Civale, Aaron\",\"Clarke, Taylor\",\"Clase, Emmanuel\",\"Claudio, Alex\",\"Cleavinger, Garrett\",\"Clevinger, Mike\",\"Clippard, Tyler\",\"Cobb, Alex\",\"Cody, Kyle\",\"Cole, Gerrit\",\"Cole, Taylor\",\"Coleman, Dylan\",\"Colon, Bartolo\",\"Conlon, P.J.\",\"Contreras, Roansy\",\"Coonrod, Sam\",\"Corbin, Patrick\",\"Cortes, Nestor\",\"Coulombe, Danny\",\"Covey, Dylan\",\"Cox, Austin\",\"Crawford, Kutter\",\"Criswell, Cooper\",\"Crouse, Hans\",\"Crowe, Wil\",\"Cruz, Fernando\",\"Cruz, Steven\",\"Cuas, Jose\",\"Cueto, Johnny\",\"Cuevas, William\",\"Curry, Xzavion\",\"Curtiss, John\",\"Darvish, Yu\",\"Davidson, Tucker\",\"Davies, Zach\",\"Davis, Austin\",\"Davis, Noah\",\"Davis, Rookie\",\"De Jong, Chase\",\"De Le\\u00f3n, Jos\\u00e9\",\"De Los Santos, Enyel\",\"DeSclafani, Anthony\",\"Dermody, Matt\",\"Despaigne, Odrisamer\",\"Detmers, Reid\",\"Detwiler, Ross\",\"Devenski, Chris\",\"Diaz, Jhonathan\",\"Dobnak, Randy\",\"Dodd, Dylan\",\"DuRapau, Montana\",\"Dubin, Shawn\",\"Duffey, Tyler\",\"Duffy, Danny\",\"Dugger, Robert\",\"Dunn, Justin\",\"Dunning, Dane\",\"Duplantier, Jon\",\"D\\u00edaz, Miguel\",\"Eflin, Zach\",\"Eickhoff, Jerad\",\"Elder, Bryce\",\"Ellis, Chris\",\"El\\u00edas, Roenis\",\"Englert, Mason\",\"Eovaldi, Nathan\",\"Erlin, Robbie\",\"Eshelman, Thomas\",\"Espino, Paolo\",\"Estes, Joey\",\"Estrada, Marco\",\"Faedo, Alex\",\"Fairbanks, Pete\",\"Falter, Bailey\",\"Faria, Jake\",\"Farmer, Buck\",\"Farrell, Luke\",\"Fedde, Erick\",\"Feierabend, Ryan\",\"Feliz, Michael\",\"Feltner, Ryan\",\"Ferguson, Caleb\",\"Fiers, Mike\",\"Fillmyer, Heath\",\"Fister, Doug\",\"Flaherty, Jack\",\"Fleming, Josh\",\"Flexen, Chris\",\"Flynn, Brian\",\"Foltynewicz, Mike\",\"Font, Wilmer\",\"Foster, Matt\",\"France, J.P.\",\"Frankoff, Seth\",\"Freeland, Kyle\",\"Fried, Max\",\"Fry, Jace\",\"Fujinami, Shintaro\",\"Fulmer, Carson\",\"Fulmer, Michael\",\"Funkhouser, Kyle\",\"Gaddis, Hunter\",\"Gagnon, Drew\",\"Gallardo, Yovani\",\"Gallen, Zac\",\"Gant, John\",\"Garcia, Bryan\",\"Garcia, Luis\",\"Garcia, Rico\",\"Garc\\u00eda, Deivi\",\"Garc\\u00eda, Jaime\",\"Garc\\u00eda, Jarl\\u00edn\",\"Garc\\u00eda, Luis\",\"Garc\\u00eda, Rony\",\"Garrett, Braxton\",\"Garza, Justin\",\"Gausman, Kevin\",\"Gaviglio, Sam\",\"Gearrin, Cory\",\"Germ\\u00e1n, Domingo\",\"Gibson, Kyle\",\"Gil, Luis\",\"Gilbert, Logan\",\"Gilbert, Tyler\",\"Gilbreath, Lucas\",\"Gilmartin, Sean\",\"Giolito, Lucas\",\"Gipson-Long, Sawyer\",\"Givens, Mychal\",\"Glasnow, Tyler\",\"Godley, Zack\",\"Gohara, Luiz\",\"Gomber, Austin\",\"Gonsalves, Stephen\",\"Gonsolin, Tony\",\"Gonzales, Marco\",\"Gonzalez, Merandy\",\"Gonz\\u00e1lez, Chi Chi\",\"Gonz\\u00e1lez, Gio\",\"Gonz\\u00e1lez, Victor\",\"Goody, Nick\",\"Gore, MacKenzie\",\"Gossett, Daniel\",\"Goudeau, Ashton\",\"Grace, Matt\",\"Graterol, Brusdar\",\"Graveman, Kendall\",\"Gray, Jon\",\"Gray, Josiah\",\"Gray, Sonny\",\"Green, Chad\",\"Greene, Conner\",\"Greene, Hunter\",\"Greinke, Zack\",\"Grove, Michael\",\"Gsellman, Robert\",\"Guerra, Junior\",\"Gutierrez, Vladimir\",\"Hale, David\",\"Hall, DL\",\"Hall, Matt\",\"Hamels, Cole\",\"Hamilton, Ian\",\"Hammel, Jason\",\"Hancock, Emerson\",\"Happ, J.A.\",\"Hardy, Blaine\",\"Harris, Hogan\",\"Harrison, Kyle\",\"Hart, Kyle\",\"Harvey, Matt\",\"Hatch, Thomas\",\"Hauschild, Mike\",\"Head, Louis\",\"Heaney, Andrew\",\"Hearn, Taylor\",\"Heasley, Jonathan\",\"Hellickson, Jeremy\",\"Hendricks, Kyle\",\"Hendriks, Liam\",\"Henry, Tommy\",\"Hentges, Sam\",\"Herget, Jimmy\",\"Hern\\u00e1ndez, Carlos\",\"Hern\\u00e1ndez, Darwinzon\",\"Hern\\u00e1ndez, Elieser\",\"Hern\\u00e1ndez, F\\u00e9lix\",\"Hern\\u00e1ndez, Jonathan\",\"Hess, David\",\"Hicks, Jordan\",\"Hill, Garrett\",\"Hill, Rich\",\"Hoeing, Bryan\",\"Hoffman, Jeff\",\"Holder, Jonathan\",\"Holland, Derek\",\"Holloway, Jordan\",\"Holmes, Clay\",\"Holton, Tyler\",\"Houck, Tanner\",\"Houser, Adrian\",\"Howard, Sam\",\"Howard, Spencer\",\"Hudson, Dakota\",\"Hudson, Daniel\",\"Hutchison, Drew\",\"Irvin, Cole\",\"Irvin, Jake\",\"Ivey, Tyler\",\"Jackson, Andre\",\"Jackson, Edwin\",\"Jackson, Jay\",\"Jacques, Joe\",\"James, Josh\",\"Jameson, Drey\",\"Jarvis, Bryce\",\"Javier, Cristian\",\"Jax, Griffin\",\"Jefferies, Daulton\",\"Johnson, Brian\",\"Johnson, Jim\",\"Johnson, Pierce\",\"Junis, Jakob\",\"Junk, Janson\",\"Jurado, Ariel\",\"Kaprielian, James\",\"Kauffmann, Karl\",\"Kay, Anthony\",\"Kazmir, Scott\",\"Keller, Brad\",\"Keller, Mitch\",\"Kelley, Trevor\",\"Kelly, Casey\",\"Kelly, Joe\",\"Kelly, Merrill\",\"Kennedy, Brett\",\"Kennedy, Ian\",\"Kershaw, Clayton\",\"Keuchel, Dallas\",\"Kickham, Mike\",\"Kikuchi, Yusei\",\"Kilian, Caleb\",\"Kim, Kwang Hyun\",\"King, Michael\",\"Kingham, Nick\",\"Kintzler, Brandon\",\"Kirby, George\",\"Kittredge, Andrew\",\"Kluber, Corey\",\"Knebel, Corey\",\"Knehr, Reiss\",\"Koch, Matt\",\"Koenig, Jared\",\"Kopech, Michael\",\"Kowar, Jackson\",\"Kranick, Max\",\"Kremer, Dean\",\"Kuhl, Chad\",\"Lakins Sr., Travis\",\"Lamb, John\",\"Lambert, Jimmy\",\"Lambert, Peter\",\"Lamet, Dinelson\",\"Latz, Jake\",\"Lauer, Eric\",\"Law, Derek\",\"LeBlanc, Wade\",\"Leake, Mike\",\"Leclerc, Jos\\u00e9\",\"Lee, Evan\",\"Leiter Jr., Mark\",\"Leone, Dominic\",\"Lester, Jon\",\"Lewicki, Artie\",\"Leyer, Robinson\",\"Liberatore, Matthew\",\"Lindblom, Josh\",\"Liriano, Francisco\",\"Littell, Zack\",\"Lively, Ben\",\"Lockett, Walker\",\"Lodolo, Nick\",\"Logue, Zach\",\"Long, Sam\",\"Lopez, Jacob\",\"Lorenzen, Michael\",\"Loup, Aaron\",\"Lowther, Zac\",\"Lo\\u00e1isiga, Jonathan\",\"Lucas, Josh\",\"Lucchesi, Joey\",\"Luetge, Lucas\",\"Lugo, Seth\",\"Luzardo, Jes\\u00fas\",\"Lyles, Jordan\",\"Lynch IV, Daniel\",\"Lynn, Lance\",\"L\\u00f3pez, Jorge\",\"L\\u00f3pez, Pablo\",\"L\\u00f3pez, Reynaldo\",\"Maeda, Kenta\",\"Mahle, Tyler\",\"Manaea, Sean\",\"Manning, Matt\",\"Manoah, Alek\",\"Mantiply, Joe\",\"Margevicius, Nick\",\"Marsh, Alec\",\"Martin, Brett\",\"Martin, Corbin\",\"Martin, Davis\",\"Martinez, Carlos\",\"Martinez, Nick\",\"Mart\\u00ednez, Adri\\u00e1n\",\"Marvel, James\",\"Matz, Steven\",\"May, Dustin\",\"May, Trevor\",\"Mayers, Mike\",\"Mazza, Chris\",\"McArthur, James\",\"McCarthy, Brandon\",\"McCarty, Kirk\",\"McCaughan, Darren\",\"McClain, Reggie\",\"McClanahan, Shane\",\"McCullers Jr., Lance\",\"McGough, Scott\",\"McGowin, Kyle\",\"McGuire, Deck\",\"McHugh, Collin\",\"McKay, Brendan\",\"McKenzie, Triston\",\"McRae, Alex\",\"Means, John\",\"Medina, Adonis\",\"Medina, Luis\",\"Megill, Trevor\",\"Megill, Tylor\",\"Meisinger, Ryan\",\"Mej\\u00eda, Adalberto\",\"Mej\\u00eda, Humberto\",\"Mej\\u00eda, J.C.\",\"Melville, Tim\",\"Menez, Conner\",\"Mengden, Daniel\",\"Merryweather, Julian\",\"Meyer, Max\",\"Middleton, Keynan\",\"Mikolas, Miles\",\"Miley, Wade\",\"Miller, Bobby\",\"Miller, Bryce\",\"Miller, Mason\",\"Miller, Shelby\",\"Miller, Tyson\",\"Mills, Alec\",\"Milone, Tommy\",\"Minor, Mike\",\"Mitchell, Bryan\",\"Mize, Casey\",\"Mlodzinski, Carmen\",\"Moll, Sam\",\"Montas, Frankie\",\"Montgomery, Jordan\",\"Montgomery, Mike\",\"Moore, Andrew\",\"Moore, Matt\",\"Morejon, Adrian\",\"Morgan, Eli\",\"Morris, Cody\",\"Morton, Charlie\",\"Moya, Gabriel\",\"Muller, Kyle\",\"Murfee, Penn\",\"Musgrove, Joe\",\"M\\u00e1rquez, Germ\\u00e1n\",\"M\\u00e9ndez, Yohander\",\"Nance, Tommy\",\"Naughton, Packy\",\"Neal, Zach\",\"Neidert, Nick\",\"Nelson, Jimmy\",\"Nelson, Kyle\",\"Nelson, Nick\",\"Nelson, Ryne\",\"Newcomb, Sean\",\"Newsome, Ljay\",\"Nix, Jacob\",\"Noes\\u00ed, Hector\",\"Nola, Aaron\",\"Nolin, Sean\",\"Norris, Daniel\",\"Nova, Iv\\u00e1n\",\"N\\u00fa\\u00f1ez, Darien\",\"O'Brien, Riley\",\"Oaks, Trevor\",\"Ober, Bailey\",\"Odorizzi, Jake\",\"Ohtani, Shohei\",\"Okert, Steven\",\"Oller, Adam\",\"Olson, Reese\",\"Ort, Kaleb\",\"Ortiz, Luis F.\",\"Ortiz, Luis L.\",\"Osich, Josh\",\"Oswalt, Corey\",\"Otto, Glenn\",\"Overton, Connor\",\"Oviedo, Johan\",\"Oviedo, Luis\",\"Paddack, Chris\",\"Pallante, Andre\",\"Palumbo, Joe\",\"Pannone, Thomas\",\"Parker, Blake\",\"Parsons, Wes\",\"Pati\\u00f1o, Luis\",\"Paxton, James\",\"Payamps, Joel\",\"Payano, Pedro\",\"Peacock, Brad\",\"Peacock, Matt\",\"Pearson, Nate\",\"Pepiot, Ryan\",\"Peralta, Freddy\",\"Peralta, Wandy\",\"Peralta, Wily\",\"Perdomo, Luis\",\"Peters, Dillon\",\"Peterson, David\",\"Pe\\u00f1a, F\\u00e9lix\",\"Pfaadt, Brandon\",\"Phelps, David\",\"Phillips, Connor\",\"Phillips, Evan\",\"Pilkington, Konnor\",\"Pineda, Michael\",\"Pivetta, Nick\",\"Plassmeyer, Michael\",\"Plesac, Zach\",\"Plutko, Adam\",\"Pomeranz, Drew\",\"Ponce de Leon, Daniel\",\"Ponce, Cody\",\"Porcello, Rick\",\"Poteet, Cody\",\"Poyner, Bobby\",\"Price, David\",\"Priester, Quinn\",\"Pruitt, Austin\",\"P\\u00e9rez, Eury\",\"P\\u00e9rez, Francisco\",\"P\\u00e9rez, Mart\\u00edn\",\"Quantrill, Cal\",\"Quintana, Jos\\u00e9\",\"Ragans, Cole\",\"Ramirez, No\\u00e9\",\"Ram\\u00edrez, Erasmo\",\"Ram\\u00edrez, Yefry\",\"Rasmussen, Drew\",\"Ray, Robbie\",\"Rea, Colin\",\"Reed, Cody\",\"Reed, Jake\",\"Reid-Foley, Sean\",\"Reininger, Zac\",\"Reyes, Alex\",\"Reyes, Denyi\",\"Richard, Clayton\",\"Richards, Garrett\",\"Richards, Trevor\",\"Richardson, Lyon\",\"Roark, Tanner\",\"Robertson, David\",\"Robertson, Nick\",\"Rodriguez, Chris\",\"Rodriguez, Eduardo\",\"Rodriguez, Elvin\",\"Rodriguez, Grayson\",\"Rodriguez, Jefry\",\"Rodr\\u00edguez, Dereck\",\"Rodr\\u00edguez, Jos\\u00e9\",\"Rodr\\u00edguez, Yerry\",\"Rod\\u00f3n, Carlos\",\"Rogers, Josh\",\"Rogers, Trevor\",\"Rom, Drew\",\"Romano, Sal\",\"Romero, Fernando\",\"Romero, Tommy\",\"Romo, Sergio\",\"Rond\\u00f3n, H\\u00e9ctor\",\"Rosenberg, Kenny\",\"Ross, Joe\",\"Ross, Tyson\",\"Rosso, Ram\\u00f3n\",\"Rucinski, Drew\",\"Ruiz, Jos\\u00e9\",\"Rutledge, Jackson\",\"Ryan, Joe\",\"Ryu, Hyun Jin\",\"Sabathia, CC\",\"Sadler, Casey\",\"Sadzeck, Connor\",\"Salazar, Danny\",\"Sale, Chris\",\"Samardzija, Jeff\",\"Sampson, Adrian\",\"Sanchez, Aaron\",\"Sandoval, Patrick\",\"Sands, Cole\",\"Sanmartin, Reiver\",\"Santana, Dennis\",\"Santana, Ervin\",\"Santiago, H\\u00e9ctor\",\"Santillan, Tony\",\"Santos, Antonio\",\"Santos, Luis\",\"Sborz, Josh\",\"Scherzer, Max\",\"Schmidt, Clarke\",\"Scholtens, Jesse\",\"Schreiber, John\",\"Schultz, Jaime\",\"Scott, Tayler\",\"Scribner, Troy\",\"Seabold, Connor\",\"Sears, JP\",\"Selby, Colin\",\"Senga, Kodai\",\"Senzatela, Antonio\",\"Severino, Luis\",\"Shaw, Bryan\",\"Sheehan, Emmet\",\"Sheffield, Justus\",\"Shepherd, Chandler\",\"Shields, James\",\"Shoemaker, Matt\",\"Shuster, Jared\",\"Silseth, Chase\",\"Sims, Lucas\",\"Singer, Brady\",\"Skaggs, Tyler\",\"Skoglund, Eric\",\"Skubal, Tarik\",\"Slegers, Aaron\",\"Small, Ethan\",\"Smeltzer, Devin\",\"Smith, Burch\",\"Smith, Caleb\",\"Smith, Drew\",\"Smith, Josh A.\",\"Smith, Riley\",\"Smith-Shawver, AJ\",\"Smyly, Drew\",\"Snell, Blake\",\"Snider, Collin\",\"Soria, Joakim\",\"Soriano, George\",\"Soroka, Michael\",\"Soto, Gregory\",\"Sparkman, Glenn\",\"Spiers, Carson\",\"Springs, Jeffrey\",\"Stammen, Craig\",\"Stanek, Ryne\",\"Stashak, Cody\",\"Staumont, Josh\",\"Steele, Justin\",\"Stephens, Jackson\",\"Stephenson, Robert\",\"Stewart, Brock\",\"Stewart, Kohl\",\"Stiever, Jonathan\",\"Stock, Robert\",\"Stone, Gavin\",\"Stoudt, Levi\",\"Strahm, Matt\",\"Straily, Dan\",\"Strasburg, Stephen\",\"Stratton, Chris\",\"Strider, Spencer\",\"Stripling, Ross\",\"Stroman, Marcus\",\"Suarez, Jos\\u00e9\",\"Suter, Brent\",\"Su\\u00e1rez, Andrew\",\"Su\\u00e1rez, Ranger\",\"Swanson, Erik\",\"Swarmer, Matt\",\"Syndergaard, Noah\",\"Szapucki, Thomas\",\"S\\u00e1nchez, An\\u00edbal\",\"S\\u00e1nchez, Cristopher\",\"S\\u00e1nchez, Sixto\",\"Taillon, Jameson\",\"Tanaka, Masahiro\",\"Tarnok, Freddy\",\"Tarpley, Stephen\",\"Taylor, Josh\",\"Teheran, Julio\",\"Tepera, Ryan\",\"Tetreault, Jackson\",\"Thompson, Keegan\",\"Thompson, Ryan\",\"Thompson, Zach\",\"Thompson, Zack\",\"Thornton, Trent\",\"Thorpe, Lewis\",\"Tillman, Chris\",\"Tinoco, Jesus\",\"Tomlin, Josh\",\"Toussaint, Touki\",\"Triggs, Andrew\",\"Tropeano, Nick\",\"Tseng, Jen-Ho\",\"Tuivailala, Sam\",\"Turnbull, Spencer\",\"Turner, Jacob\",\"Underwood Jr., Duane\",\"Ure\\u00f1a, Jos\\u00e9\",\"Urquidy, Jos\\u00e9\",\"Ur\\u00edas, Julio\",\"Valdez, Framber\",\"Vargas, Jason\",\"Varland, Louie\",\"Velasquez, Vince\",\"Vel\\u00e1zquez, Hector\",\"Venters, Jonny\",\"VerHagen, Drew\",\"Verlander, Justin\",\"Vesia, Alex\",\"Vest, Will\",\"Vincent, Nick\",\"Vines, Darius\",\"Volquez, Edinson\",\"Voth, Austin\",\"V\\u00e1squez, Randy\",\"Wacha, Michael\",\"Waguespack, Jacob\",\"Wainwright, Adam\",\"Waldichuk, Ken\",\"Waldron, Matt\",\"Walker, Ryan\",\"Walker, Taijuan\",\"Wantz, Andrew\",\"Watkins, Spenser\",\"Weathers, Ryan\",\"Weaver, Luke\",\"Webb, Logan\",\"Weber, Ryan\",\"Wells, Alex\",\"Wells, Tyler\",\"Wentz, Joey\",\"Wesneski, Hayden\",\"Wheeler, Zack\",\"White, Brendan\",\"White, Mitch\",\"Whitlock, Garrett\",\"Wicks, Jordan\",\"Widener, Taylor\",\"Wilkerson, Aaron\",\"Williams, Gavin\",\"Williams, Trevor\",\"Williamson, Brandon\",\"Wilson, Bryse\",\"Wilson, Steven\",\"Winans, Allan\",\"Winckowski, Josh\",\"Winder, Josh\",\"Wingenter, Trey\",\"Winn, Keaton\",\"Wisler, Matt\",\"Wittgren, Nick\",\"Wojciechowski, Asher\",\"Wolf, Jackson\",\"Woo, Bryan\",\"Wood, Alex\",\"Wood, Hunter\",\"Woodford, Jake\",\"Woodruff, Brandon\",\"Woods Richardson, Simeon\",\"Wright, Kyle\",\"Wright, Steven\",\"Yacabonis, Jimmy\",\"Yajure, Miguel\",\"Yamamoto, Jordan\",\"Yang, Hyeon-Jong\",\"Yarbrough, Ryan\",\"Ynoa, Gabriel\",\"Ynoa, Huascar\",\"Young, Alex\",\"Zastryzny, Rob\",\"Zerpa, Angel\",\"Zeuch, T.J.\",\"Zimmer, Kyle\",\"Zimmermann, Bruce\",\"Zimmermann, Jordan\",\"deGrom, Jacob\"],\"legendgroup\":\"\",\"marker\":{\"color\":\"#636efa\",\"symbol\":\"circle\"},\"mode\":\"markers\",\"name\":\"\",\"orientation\":\"h\",\"showlegend\":false,\"x\":[1.1,1.2,0.6,0.3,2.1,4.3,7.8,3.2,2.0,5.7,0.3,10.3,2.2,8.8,6.4,0.5,1.2,3.8,17.7,23.7,1.0,4.2,5.6,1.3,16.0,2.3,-0.7,3.0,5.1,0.8,-1.0,23.1,-0.9,10.7,4.9,2.3,-0.5,-0.7,6.0,0.6,0.8,1.2,0.2,0.1,3.8,13.8,0.0,-0.7,0.3,-4.3,1.9,0.8,-0.1,1.4,1.0,-0.5,6.2,3.9,0.1,7.2,0.0,0.8,1.7,-0.9,11.7,6.1,0.6,1.0,2.3,-0.1,-15.0,4.1,0.7,11.2,15.9,2.4,0.5,0.2,3.3,4.0,0.0,0.2,4.4,-1.0,1.7,-2.0,0.5,0.8,0.2,8.3,0.0,1.0,1.5,-0.2,1.6,3.0,1.9,0.5,7.2,0.7,6.8,0.0,16.8,2.2,-7.8,17.0,16.8,4.4,-25.0,-0.3,1.7,0.3,-0.4,0.0,0.8,4.3,6.2,1.0,8.2,5.2,11.5,5.6,4.2,4.9,-1.2,-10.1,2.1,0.4,0.2,4.7,-0.7,4.3,7.1,0.8,9.8,0.4,3.8,4.0,1.8,8.5,0.6,0.0,0.2,3.3,0.5,8.4,1.9,-24.1,1.9,0.8,9.8,1.1,6.7,-0.3,16.6,-4.4,0.4,10.1,0.5,0.7,0.0,2.2,10.4,-1.6,0.4,0.3,16.5,-0.1,4.8,0.9,-14.7,6.4,26.8,-0.9,1.9,1.5,3.5,-0.4,1.0,8.0,1.1,4.6,6.6,10.5,0.7,2.6,6.6,4.0,0.1,0.7,0.1,5.7,7.5,9.8,17.4,3.4,0.7,7.2,7.9,6.2,1.3,-0.3,0.4,5.6,2.7,8.6,7.7,1.1,9.7,0.3,-0.5,6.2,2.7,-0.3,2.5,21.7,1.1,1.0,7.0,2.2,14.6,3.9,1.4,-2.8,1.7,13.3,0.9,5.6,0.2,-0.8,5.9,2.2,34.2,-3.1,0.3,0.7,3.3,9.2,0.3,2.5,1.0,6.5,-8.7,9.8,0.7,1.1,0.9,0.7,2.5,0.3,1.2,3.1,3.5,0.6,-6.4,6.0,0.6,7.4,24.4,-0.3,1.7,1.9,0.6,1.6,13.9,-0.7,0.1,-12.6,7.2,-0.1,12.6,3.5,-0.7,25.5,0.3,17.0,8.8,0.4,-0.2,6.7,1.4,0.5,-0.6,-0.5,0.2,11.9,11.7,-10.2,-1.1,-0.1,-7.2,2.2,1.4,3.4,4.8,9.5,0.0,0.0,0.4,7.3,0.3,6.8,0.4,11.5,0.9,2.4,0.7,2.4,12.9,3.7,1.3,-0.2,1.6,4.9,7.4,4.5,5.8,0.4,6.9,5.9,0.0,3.5,-0.1,4.1,11.3,0.2,10.6,0.7,3.6,8.2,4.7,9.2,0.2,3.3,1.3,3.0,0.0,-2.7,18.3,-0.6,5.3,21.3,-0.2,11.0,15.6,8.9,0.3,-0.5,10.9,0.6,1.1,1.3,-0.2,0.4,-2.6,2.8,2.5,7.0,0.2,0.1,11.1,0.7,15.3,5.3,1.1,-0.6,0.6,17.2,12.9,0.2,1.5,0.7,18.1,3.2,3.4,-12.1,21.5,0.4,28.5,1.1,4.1,1.3,7.5,0.4,1.3,-0.4,1.5,-0.1,4.1,5.3,1.9,9.1,5.3,0.1,13.9,15.6,0.4,0.8,1.9,17.1,-5.4,0.1,13.9,1.7,10.9,14.3,0.1,0.4,0.8,-0.4,22.5,0.7,-0.1,7.6,0.6,5.4,2.6,4.1,3.4,-2.9,3.1,1.1,0.6,6.5,-0.4,1.0,-0.5,0.7,-2.2,0.0,-1.9,-2.9,33.9,11.0,-3.7,13.2,4.1,17.6,-7.6,3.5,0.5,12.3,-0.5,0.5,1.9,4.5,1.0,7.2,4.4,7.9,-0.5,2.7,2.3,14.3,-1.7,0.9,1.2,1.9,0.1,1.0,1.4,1.3,1.5,-1.1,-4.0,-0.1,0.0,0.9,0.3,0.3,-0.2,2.0,4.0,1.1,3.3,0.1,0.9,0.8,2.0,3.3,5.2,3.3,1.2,7.6,0.2,-0.3,0.6,10.3,15.3,-2.5,0.8,0.2,3.1,3.0,5.4,3.6,7.1,0.0,1.6,0.2,-0.5,6.5,2.7,9.4,0.5,8.7,0.7,2.1,1.6,-15.2,0.8,2.9,0.0,-0.3,4.8,1.9,-0.1,4.1,1.6,1.0,1.0,0.1,0.5,8.3,11.8,1.6,5.1,2.4,-27.4,1.7,3.3,17.1,0.4,1.0,0.8,-4.4,1.0,-10.5,1.3,5.7,-2.2,0.3,1.7,7.1,0.5,3.1,3.3,0.9,13.8,1.3,0.5,3.5,2.0,4.2,-0.5,1.5,7.6,1.0,0.2,2.4,3.2,3.7,2.2,-0.2,-9.5,-0.2,6.5,2.0,9.3,8.0,3.4,-0.6,0.3,-0.2,0.3,2.7,7.5,0.2,1.2,10.9,8.7,7.5,-1.0,2.0,11.7,3.7,-0.4,-1.0,3.4,1.0,-2.7,0.3,33.0,13.9,10.2,1.5,-0.1,4.8,2.9,-5.3,-3.6,5.5,0.1,0.4,0.0,0.9,0.7,0.8,12.5,13.0,4.3,3.4,13.3,0.0,0.0,0.3,-1.4,3.1,-1.1,4.6,7.5,1.0,-0.1,3.2,1.2,-1.7,2.8,5.7,2.3,2.0,-0.1,1.0,1.1,0.3,4.2,0.4,1.8,1.0,2.0,1.2,1.5,6.4,-0.1,0.6,0.7,-19.6,7.5,12.0,8.6,12.5,1.6,-0.4,0.0,1.9,4.8,1.5,0.9,0.1,0.1,-36.0,3.9,0.8,0.5,0.6,1.1,0.4,11.2,8.3,-0.3,-0.2,25.2,2.2,1.3,0.3,6.7,1.5,9.0,3.2,3.3,-0.3,-0.7,10.0,0.6,6.5,-5.8,0.8,1.7,4.1,0.7,12.8,-0.3,0.8,3.1,1.9,10.1,-27.7,0.2,0.1,-0.3,2.4,2.9,12.9,1.1,-3.9,1.0,-2.7,0.1,-0.4,-4.4,0.9,1.1,1.2,3.7,2.1,1.8,2.1,0.7,0.7,6.2,-5.9,7.4,-13.7,-2.8,6.2,8.9,-1.2,6.6,6.2,0.2,0.7,9.9,2.4,9.9,0.3,0.4,6.3,0.2,0.1,1.3,0.0,18.1,0.8,3.2,7.9,-0.1,6.4,1.6,4.2,3.1,1.3,0.2,3.2,6.8,1.5,3.3,-0.4,0.2,8.3,0.9,0.8,18.7,2.7,4.0,-1.6,9.6,0.9,11.3,5.5,0.7,1.8,-18.7,-0.3,1.1,1.0,0.4,1.4,1.7,0.6,14.6,4.5,22.2,1.4,2.1,-0.4,13.0,0.1,6.8,15.1,11.8,-6.3,6.2,5.6,1.1,7.5,0.9,-22.6,0.5,6.5,1.5,2.3,1.4,0.5,1.6,33.9,5.1,9.1,-0.4,-0.2,7.3,2.1,0.1,0.8,-2.6,0.8,5.9,0.8,-1.9,7.0,-0.7,4.3,-19.9,0.5,7.4,2.1,3.3,2.2,2.9,1.5,7.5,5.8,2.4,5.9,0.1,2.0,6.1,0.1,8.2,7.7,-34.1],\"xaxis\":\"x\",\"y\":[\"Abbott, Andrew\",\"Abbott, Cory\",\"Adams, Austin\",\"Adams, Chance\",\"Adon, Joan\",\"Agrazal, Dario\",\"Akin, Keegan\",\"Albers, Andrew\",\"Alcantara, Sandy\",\"Alexander, Jason\",\"Alexander, Scott\",\"Alexander, Tyler\",\"Alexy, A.J.\",\"Allard, Kolby\",\"Allen, Logan\",\"Alvarado, Jos\\u00e9\",\"Alvarez, Jose\",\"Alzolay, Adbert\",\"Anderson, Brett\",\"Anderson, Chase\",\"Anderson, Drew\",\"Anderson, Ian\",\"Anderson, Shaun\",\"Anderson, Tanner\",\"Anderson, Tyler\",\"Andriese, Matt\",\"Antone, Tejay\",\"Archer, Chris\",\"Arihara, Kohei\",\"Armenteros, Rogelio\",\"Armstrong, Shawn\",\"Arrieta, Jake\",\"Ashby, Aaron\",\"Ashcraft, Graham\",\"Assad, Javier\",\"Avila, Pedro\",\"Axford, John\",\"Baez, Michel\",\"Bailey, Homer\",\"Baker, Bryan\",\"Banda, Anthony\",\"Banks, Tanner\",\"Baragar, Caleb\",\"Bard, Luke\",\"Barnes, Charlie\",\"Barria, Jaime\",\"Bass, Anthony\",\"Bassitt, Chris\",\"Battenfield, Peyton\",\"Bauer, Trevor\",\"Baumann, Mike\",\"Bautista, Gerson\",\"Baz, Shane\",\"Ba\\u00f1uelos, Manny\",\"Beck, Tristan\",\"Bedrosian, Cam\",\"Beede, Tyler\",\"Beeks, Jalen\",\"Bellatti, Andrew\",\"Bello, Brayan\",\"Bender, Anthony\",\"Benjamin, Wes\",\"Bergman, Christian\",\"Bernardino, Brennan\",\"Berr\\u00edos, Jos\\u00e9\",\"Bettis, Chad\",\"Biagini, Joe\",\"Bibee, Tanner\",\"Bibens-Dirkx, Austin\",\"Bido, Osvaldo\",\"Bieber, Shane\",\"Bielak, Brandon\",\"Bird, Jake\",\"Blach, Ty\",\"Blackburn, Paul\",\"Blanco, Ronel\",\"Bleier, Richard\",\"Blevins, Jerry\",\"Bola\\u00f1os, Ronald\",\"Borucki, Ryan\",\"Boshers, Buddy\",\"Bowlan, Jonathan\",\"Boyd, Matthew\",\"Boyle, Joe\",\"Bradford, Cody\",\"Bradish, Kyle\",\"Bradley, Archie\",\"Bradley, Taj\",\"Brasier, Ryan\",\"Brault, Steven\",\"Braymer, Ben\",\"Brebbia, John\",\"Brewer, Colten\",\"Brice, Austin\",\"Brieske, Beau\",\"Brigham, Jeff\",\"Brito, Jhony\",\"Brogdon, Connor\",\"Brooks, Aaron\",\"Brown, Hunter\",\"Brubaker, JT\",\"Bruihl, Justin\",\"Bubic, Kris\",\"Buchholz, Clay\",\"Buehler, Walker\",\"Bumgarner, Madison\",\"Bundy, Dylan\",\"Burke, Brock\",\"Burnes, Corbin\",\"Burr, Ryan\",\"Burrows, Beau\",\"Bush, Matt\",\"Butto, Jos\\u00e9\",\"Cabrera, Edward\",\"Cabrera, G\\u00e9nesis\",\"Cahill, Trevor\",\"Canning, Griffin\",\"Carasiti, Matt\",\"Carpenter, Ryan\",\"Carrasco, Carlos\",\"Cashner, Andrew\",\"Castano, Daniel\",\"Castellani, Ryan\",\"Castellanos, Humberto\",\"Castillo, Diego\",\"Castillo, Luis\",\"Castillo, Max\",\"Castro, Miguel\",\"Cavalli, Cade\",\"Cease, Dylan\",\"Cecconi, Slade\",\"Cessa, Luis\",\"Chac\\u00edn, Jhoulys\",\"Chargois, JT\",\"Chatwood, Tyler\",\"Chavez, Jesse\",\"Chen, Wei-Yin\",\"Chirinos, Yonny\",\"Civale, Aaron\",\"Clarke, Taylor\",\"Clase, Emmanuel\",\"Claudio, Alex\",\"Cleavinger, Garrett\",\"Clevinger, Mike\",\"Clippard, Tyler\",\"Cobb, Alex\",\"Cody, Kyle\",\"Cole, Gerrit\",\"Cole, Taylor\",\"Coleman, Dylan\",\"Colon, Bartolo\",\"Conlon, P.J.\",\"Contreras, Roansy\",\"Coonrod, Sam\",\"Corbin, Patrick\",\"Cortes, Nestor\",\"Coulombe, Danny\",\"Covey, Dylan\",\"Cox, Austin\",\"Crawford, Kutter\",\"Criswell, Cooper\",\"Crouse, Hans\",\"Crowe, Wil\",\"Cruz, Fernando\",\"Cruz, Steven\",\"Cuas, Jose\",\"Cueto, Johnny\",\"Cuevas, William\",\"Curry, Xzavion\",\"Curtiss, John\",\"Darvish, Yu\",\"Davidson, Tucker\",\"Davies, Zach\",\"Davis, Austin\",\"Davis, Noah\",\"Davis, Rookie\",\"De Jong, Chase\",\"De Le\\u00f3n, Jos\\u00e9\",\"De Los Santos, Enyel\",\"DeSclafani, Anthony\",\"Dermody, Matt\",\"Despaigne, Odrisamer\",\"Detmers, Reid\",\"Detwiler, Ross\",\"Devenski, Chris\",\"Diaz, Jhonathan\",\"Dobnak, Randy\",\"Dodd, Dylan\",\"DuRapau, Montana\",\"Dubin, Shawn\",\"Duffey, Tyler\",\"Duffy, Danny\",\"Dugger, Robert\",\"Dunn, Justin\",\"Dunning, Dane\",\"Duplantier, Jon\",\"D\\u00edaz, Miguel\",\"Eflin, Zach\",\"Eickhoff, Jerad\",\"Elder, Bryce\",\"Ellis, Chris\",\"El\\u00edas, Roenis\",\"Englert, Mason\",\"Eovaldi, Nathan\",\"Erlin, Robbie\",\"Eshelman, Thomas\",\"Espino, Paolo\",\"Estes, Joey\",\"Estrada, Marco\",\"Faedo, Alex\",\"Fairbanks, Pete\",\"Falter, Bailey\",\"Faria, Jake\",\"Farmer, Buck\",\"Farrell, Luke\",\"Fedde, Erick\",\"Feierabend, Ryan\",\"Feliz, Michael\",\"Feltner, Ryan\",\"Ferguson, Caleb\",\"Fiers, Mike\",\"Fillmyer, Heath\",\"Fister, Doug\",\"Flaherty, Jack\",\"Fleming, Josh\",\"Flexen, Chris\",\"Flynn, Brian\",\"Foltynewicz, Mike\",\"Font, Wilmer\",\"Foster, Matt\",\"France, J.P.\",\"Frankoff, Seth\",\"Freeland, Kyle\",\"Fried, Max\",\"Fry, Jace\",\"Fujinami, Shintaro\",\"Fulmer, Carson\",\"Fulmer, Michael\",\"Funkhouser, Kyle\",\"Gaddis, Hunter\",\"Gagnon, Drew\",\"Gallardo, Yovani\",\"Gallen, Zac\",\"Gant, John\",\"Garcia, Bryan\",\"Garcia, Luis\",\"Garcia, Rico\",\"Garc\\u00eda, Deivi\",\"Garc\\u00eda, Jaime\",\"Garc\\u00eda, Jarl\\u00edn\",\"Garc\\u00eda, Luis\",\"Garc\\u00eda, Rony\",\"Garrett, Braxton\",\"Garza, Justin\",\"Gausman, Kevin\",\"Gaviglio, Sam\",\"Gearrin, Cory\",\"Germ\\u00e1n, Domingo\",\"Gibson, Kyle\",\"Gil, Luis\",\"Gilbert, Logan\",\"Gilbert, Tyler\",\"Gilbreath, Lucas\",\"Gilmartin, Sean\",\"Giolito, Lucas\",\"Gipson-Long, Sawyer\",\"Givens, Mychal\",\"Glasnow, Tyler\",\"Godley, Zack\",\"Gohara, Luiz\",\"Gomber, Austin\",\"Gonsalves, Stephen\",\"Gonsolin, Tony\",\"Gonzales, Marco\",\"Gonzalez, Merandy\",\"Gonz\\u00e1lez, Chi Chi\",\"Gonz\\u00e1lez, Gio\",\"Gonz\\u00e1lez, Victor\",\"Goody, Nick\",\"Gore, MacKenzie\",\"Gossett, Daniel\",\"Goudeau, Ashton\",\"Grace, Matt\",\"Graterol, Brusdar\",\"Graveman, Kendall\",\"Gray, Jon\",\"Gray, Josiah\",\"Gray, Sonny\",\"Green, Chad\",\"Greene, Conner\",\"Greene, Hunter\",\"Greinke, Zack\",\"Grove, Michael\",\"Gsellman, Robert\",\"Guerra, Junior\",\"Gutierrez, Vladimir\",\"Hale, David\",\"Hall, DL\",\"Hall, Matt\",\"Hamels, Cole\",\"Hamilton, Ian\",\"Hammel, Jason\",\"Hancock, Emerson\",\"Happ, J.A.\",\"Hardy, Blaine\",\"Harris, Hogan\",\"Harrison, Kyle\",\"Hart, Kyle\",\"Harvey, Matt\",\"Hatch, Thomas\",\"Hauschild, Mike\",\"Head, Louis\",\"Heaney, Andrew\",\"Hearn, Taylor\",\"Heasley, Jonathan\",\"Hellickson, Jeremy\",\"Hendricks, Kyle\",\"Hendriks, Liam\",\"Henry, Tommy\",\"Hentges, Sam\",\"Herget, Jimmy\",\"Hern\\u00e1ndez, Carlos\",\"Hern\\u00e1ndez, Darwinzon\",\"Hern\\u00e1ndez, Elieser\",\"Hern\\u00e1ndez, F\\u00e9lix\",\"Hern\\u00e1ndez, Jonathan\",\"Hess, David\",\"Hicks, Jordan\",\"Hill, Garrett\",\"Hill, Rich\",\"Hoeing, Bryan\",\"Hoffman, Jeff\",\"Holder, Jonathan\",\"Holland, Derek\",\"Holloway, Jordan\",\"Holmes, Clay\",\"Holton, Tyler\",\"Houck, Tanner\",\"Houser, Adrian\",\"Howard, Sam\",\"Howard, Spencer\",\"Hudson, Dakota\",\"Hudson, Daniel\",\"Hutchison, Drew\",\"Irvin, Cole\",\"Irvin, Jake\",\"Ivey, Tyler\",\"Jackson, Andre\",\"Jackson, Edwin\",\"Jackson, Jay\",\"Jacques, Joe\",\"James, Josh\",\"Jameson, Drey\",\"Jarvis, Bryce\",\"Javier, Cristian\",\"Jax, Griffin\",\"Jefferies, Daulton\",\"Johnson, Brian\",\"Johnson, Jim\",\"Johnson, Pierce\",\"Junis, Jakob\",\"Junk, Janson\",\"Jurado, Ariel\",\"Kaprielian, James\",\"Kauffmann, Karl\",\"Kay, Anthony\",\"Kazmir, Scott\",\"Keller, Brad\",\"Keller, Mitch\",\"Kelley, Trevor\",\"Kelly, Casey\",\"Kelly, Joe\",\"Kelly, Merrill\",\"Kennedy, Brett\",\"Kennedy, Ian\",\"Kershaw, Clayton\",\"Keuchel, Dallas\",\"Kickham, Mike\",\"Kikuchi, Yusei\",\"Kilian, Caleb\",\"Kim, Kwang Hyun\",\"King, Michael\",\"Kingham, Nick\",\"Kintzler, Brandon\",\"Kirby, George\",\"Kittredge, Andrew\",\"Kluber, Corey\",\"Knebel, Corey\",\"Knehr, Reiss\",\"Koch, Matt\",\"Koenig, Jared\",\"Kopech, Michael\",\"Kowar, Jackson\",\"Kranick, Max\",\"Kremer, Dean\",\"Kuhl, Chad\",\"Lakins Sr., Travis\",\"Lamb, John\",\"Lambert, Jimmy\",\"Lambert, Peter\",\"Lamet, Dinelson\",\"Latz, Jake\",\"Lauer, Eric\",\"Law, Derek\",\"LeBlanc, Wade\",\"Leake, Mike\",\"Leclerc, Jos\\u00e9\",\"Lee, Evan\",\"Leiter Jr., Mark\",\"Leone, Dominic\",\"Lester, Jon\",\"Lewicki, Artie\",\"Leyer, Robinson\",\"Liberatore, Matthew\",\"Lindblom, Josh\",\"Liriano, Francisco\",\"Littell, Zack\",\"Lively, Ben\",\"Lockett, Walker\",\"Lodolo, Nick\",\"Logue, Zach\",\"Long, Sam\",\"Lopez, Jacob\",\"Lorenzen, Michael\",\"Loup, Aaron\",\"Lowther, Zac\",\"Lo\\u00e1isiga, Jonathan\",\"Lucas, Josh\",\"Lucchesi, Joey\",\"Luetge, Lucas\",\"Lugo, Seth\",\"Luzardo, Jes\\u00fas\",\"Lyles, Jordan\",\"Lynch IV, Daniel\",\"Lynn, Lance\",\"L\\u00f3pez, Jorge\",\"L\\u00f3pez, Pablo\",\"L\\u00f3pez, Reynaldo\",\"Maeda, Kenta\",\"Mahle, Tyler\",\"Manaea, Sean\",\"Manning, Matt\",\"Manoah, Alek\",\"Mantiply, Joe\",\"Margevicius, Nick\",\"Marsh, Alec\",\"Martin, Brett\",\"Martin, Corbin\",\"Martin, Davis\",\"Martinez, Carlos\",\"Martinez, Nick\",\"Mart\\u00ednez, Adri\\u00e1n\",\"Marvel, James\",\"Matz, Steven\",\"May, Dustin\",\"May, Trevor\",\"Mayers, Mike\",\"Mazza, Chris\",\"McArthur, James\",\"McCarthy, Brandon\",\"McCarty, Kirk\",\"McCaughan, Darren\",\"McClain, Reggie\",\"McClanahan, Shane\",\"McCullers Jr., Lance\",\"McGough, Scott\",\"McGowin, Kyle\",\"McGuire, Deck\",\"McHugh, Collin\",\"McKay, Brendan\",\"McKenzie, Triston\",\"McRae, Alex\",\"Means, John\",\"Medina, Adonis\",\"Medina, Luis\",\"Megill, Trevor\",\"Megill, Tylor\",\"Meisinger, Ryan\",\"Mej\\u00eda, Adalberto\",\"Mej\\u00eda, Humberto\",\"Mej\\u00eda, J.C.\",\"Melville, Tim\",\"Menez, Conner\",\"Mengden, Daniel\",\"Merryweather, Julian\",\"Meyer, Max\",\"Middleton, Keynan\",\"Mikolas, Miles\",\"Miley, Wade\",\"Miller, Bobby\",\"Miller, Bryce\",\"Miller, Mason\",\"Miller, Shelby\",\"Miller, Tyson\",\"Mills, Alec\",\"Milone, Tommy\",\"Minor, Mike\",\"Mitchell, Bryan\",\"Mize, Casey\",\"Mlodzinski, Carmen\",\"Moll, Sam\",\"Montas, Frankie\",\"Montgomery, Jordan\",\"Montgomery, Mike\",\"Moore, Andrew\",\"Moore, Matt\",\"Morejon, Adrian\",\"Morgan, Eli\",\"Morris, Cody\",\"Morton, Charlie\",\"Moya, Gabriel\",\"Muller, Kyle\",\"Murfee, Penn\",\"Musgrove, Joe\",\"M\\u00e1rquez, Germ\\u00e1n\",\"M\\u00e9ndez, Yohander\",\"Nance, Tommy\",\"Naughton, Packy\",\"Neal, Zach\",\"Neidert, Nick\",\"Nelson, Jimmy\",\"Nelson, Kyle\",\"Nelson, Nick\",\"Nelson, Ryne\",\"Newcomb, Sean\",\"Newsome, Ljay\",\"Nix, Jacob\",\"Noes\\u00ed, Hector\",\"Nola, Aaron\",\"Nolin, Sean\",\"Norris, Daniel\",\"Nova, Iv\\u00e1n\",\"N\\u00fa\\u00f1ez, Darien\",\"O'Brien, Riley\",\"Oaks, Trevor\",\"Ober, Bailey\",\"Odorizzi, Jake\",\"Ohtani, Shohei\",\"Okert, Steven\",\"Oller, Adam\",\"Olson, Reese\",\"Ort, Kaleb\",\"Ortiz, Luis F.\",\"Ortiz, Luis L.\",\"Osich, Josh\",\"Oswalt, Corey\",\"Otto, Glenn\",\"Overton, Connor\",\"Oviedo, Johan\",\"Oviedo, Luis\",\"Paddack, Chris\",\"Pallante, Andre\",\"Palumbo, Joe\",\"Pannone, Thomas\",\"Parker, Blake\",\"Parsons, Wes\",\"Pati\\u00f1o, Luis\",\"Paxton, James\",\"Payamps, Joel\",\"Payano, Pedro\",\"Peacock, Brad\",\"Peacock, Matt\",\"Pearson, Nate\",\"Pepiot, Ryan\",\"Peralta, Freddy\",\"Peralta, Wandy\",\"Peralta, Wily\",\"Perdomo, Luis\",\"Peters, Dillon\",\"Peterson, David\",\"Pe\\u00f1a, F\\u00e9lix\",\"Pfaadt, Brandon\",\"Phelps, David\",\"Phillips, Connor\",\"Phillips, Evan\",\"Pilkington, Konnor\",\"Pineda, Michael\",\"Pivetta, Nick\",\"Plassmeyer, Michael\",\"Plesac, Zach\",\"Plutko, Adam\",\"Pomeranz, Drew\",\"Ponce de Leon, Daniel\",\"Ponce, Cody\",\"Porcello, Rick\",\"Poteet, Cody\",\"Poyner, Bobby\",\"Price, David\",\"Priester, Quinn\",\"Pruitt, Austin\",\"P\\u00e9rez, Eury\",\"P\\u00e9rez, Francisco\",\"P\\u00e9rez, Mart\\u00edn\",\"Quantrill, Cal\",\"Quintana, Jos\\u00e9\",\"Ragans, Cole\",\"Ramirez, No\\u00e9\",\"Ram\\u00edrez, Erasmo\",\"Ram\\u00edrez, Yefry\",\"Rasmussen, Drew\",\"Ray, Robbie\",\"Rea, Colin\",\"Reed, Cody\",\"Reed, Jake\",\"Reid-Foley, Sean\",\"Reininger, Zac\",\"Reyes, Alex\",\"Reyes, Denyi\",\"Richard, Clayton\",\"Richards, Garrett\",\"Richards, Trevor\",\"Richardson, Lyon\",\"Roark, Tanner\",\"Robertson, David\",\"Robertson, Nick\",\"Rodriguez, Chris\",\"Rodriguez, Eduardo\",\"Rodriguez, Elvin\",\"Rodriguez, Grayson\",\"Rodriguez, Jefry\",\"Rodr\\u00edguez, Dereck\",\"Rodr\\u00edguez, Jos\\u00e9\",\"Rodr\\u00edguez, Yerry\",\"Rod\\u00f3n, Carlos\",\"Rogers, Josh\",\"Rogers, Trevor\",\"Rom, Drew\",\"Romano, Sal\",\"Romero, Fernando\",\"Romero, Tommy\",\"Romo, Sergio\",\"Rond\\u00f3n, H\\u00e9ctor\",\"Rosenberg, Kenny\",\"Ross, Joe\",\"Ross, Tyson\",\"Rosso, Ram\\u00f3n\",\"Rucinski, Drew\",\"Ruiz, Jos\\u00e9\",\"Rutledge, Jackson\",\"Ryan, Joe\",\"Ryu, Hyun Jin\",\"Sabathia, CC\",\"Sadler, Casey\",\"Sadzeck, Connor\",\"Salazar, Danny\",\"Sale, Chris\",\"Samardzija, Jeff\",\"Sampson, Adrian\",\"Sanchez, Aaron\",\"Sandoval, Patrick\",\"Sands, Cole\",\"Sanmartin, Reiver\",\"Santana, Dennis\",\"Santana, Ervin\",\"Santiago, H\\u00e9ctor\",\"Santillan, Tony\",\"Santos, Antonio\",\"Santos, Luis\",\"Sborz, Josh\",\"Scherzer, Max\",\"Schmidt, Clarke\",\"Scholtens, Jesse\",\"Schreiber, John\",\"Schultz, Jaime\",\"Scott, Tayler\",\"Scribner, Troy\",\"Seabold, Connor\",\"Sears, JP\",\"Selby, Colin\",\"Senga, Kodai\",\"Senzatela, Antonio\",\"Severino, Luis\",\"Shaw, Bryan\",\"Sheehan, Emmet\",\"Sheffield, Justus\",\"Shepherd, Chandler\",\"Shields, James\",\"Shoemaker, Matt\",\"Shuster, Jared\",\"Silseth, Chase\",\"Sims, Lucas\",\"Singer, Brady\",\"Skaggs, Tyler\",\"Skoglund, Eric\",\"Skubal, Tarik\",\"Slegers, Aaron\",\"Small, Ethan\",\"Smeltzer, Devin\",\"Smith, Burch\",\"Smith, Caleb\",\"Smith, Drew\",\"Smith, Josh A.\",\"Smith, Riley\",\"Smith-Shawver, AJ\",\"Smyly, Drew\",\"Snell, Blake\",\"Snider, Collin\",\"Soria, Joakim\",\"Soriano, George\",\"Soroka, Michael\",\"Soto, Gregory\",\"Sparkman, Glenn\",\"Spiers, Carson\",\"Springs, Jeffrey\",\"Stammen, Craig\",\"Stanek, Ryne\",\"Stashak, Cody\",\"Staumont, Josh\",\"Steele, Justin\",\"Stephens, Jackson\",\"Stephenson, Robert\",\"Stewart, Brock\",\"Stewart, Kohl\",\"Stiever, Jonathan\",\"Stock, Robert\",\"Stone, Gavin\",\"Stoudt, Levi\",\"Strahm, Matt\",\"Straily, Dan\",\"Strasburg, Stephen\",\"Stratton, Chris\",\"Strider, Spencer\",\"Stripling, Ross\",\"Stroman, Marcus\",\"Suarez, Jos\\u00e9\",\"Suter, Brent\",\"Su\\u00e1rez, Andrew\",\"Su\\u00e1rez, Ranger\",\"Swanson, Erik\",\"Swarmer, Matt\",\"Syndergaard, Noah\",\"Szapucki, Thomas\",\"S\\u00e1nchez, An\\u00edbal\",\"S\\u00e1nchez, Cristopher\",\"S\\u00e1nchez, Sixto\",\"Taillon, Jameson\",\"Tanaka, Masahiro\",\"Tarnok, Freddy\",\"Tarpley, Stephen\",\"Taylor, Josh\",\"Teheran, Julio\",\"Tepera, Ryan\",\"Tetreault, Jackson\",\"Thompson, Keegan\",\"Thompson, Ryan\",\"Thompson, Zach\",\"Thompson, Zack\",\"Thornton, Trent\",\"Thorpe, Lewis\",\"Tillman, Chris\",\"Tinoco, Jesus\",\"Tomlin, Josh\",\"Toussaint, Touki\",\"Triggs, Andrew\",\"Tropeano, Nick\",\"Tseng, Jen-Ho\",\"Tuivailala, Sam\",\"Turnbull, Spencer\",\"Turner, Jacob\",\"Underwood Jr., Duane\",\"Ure\\u00f1a, Jos\\u00e9\",\"Urquidy, Jos\\u00e9\",\"Ur\\u00edas, Julio\",\"Valdez, Framber\",\"Vargas, Jason\",\"Varland, Louie\",\"Velasquez, Vince\",\"Vel\\u00e1zquez, Hector\",\"Venters, Jonny\",\"VerHagen, Drew\",\"Verlander, Justin\",\"Vesia, Alex\",\"Vest, Will\",\"Vincent, Nick\",\"Vines, Darius\",\"Volquez, Edinson\",\"Voth, Austin\",\"V\\u00e1squez, Randy\",\"Wacha, Michael\",\"Waguespack, Jacob\",\"Wainwright, Adam\",\"Waldichuk, Ken\",\"Waldron, Matt\",\"Walker, Ryan\",\"Walker, Taijuan\",\"Wantz, Andrew\",\"Watkins, Spenser\",\"Weathers, Ryan\",\"Weaver, Luke\",\"Webb, Logan\",\"Weber, Ryan\",\"Wells, Alex\",\"Wells, Tyler\",\"Wentz, Joey\",\"Wesneski, Hayden\",\"Wheeler, Zack\",\"White, Brendan\",\"White, Mitch\",\"Whitlock, Garrett\",\"Wicks, Jordan\",\"Widener, Taylor\",\"Wilkerson, Aaron\",\"Williams, Gavin\",\"Williams, Trevor\",\"Williamson, Brandon\",\"Wilson, Bryse\",\"Wilson, Steven\",\"Winans, Allan\",\"Winckowski, Josh\",\"Winder, Josh\",\"Wingenter, Trey\",\"Winn, Keaton\",\"Wisler, Matt\",\"Wittgren, Nick\",\"Wojciechowski, Asher\",\"Wolf, Jackson\",\"Woo, Bryan\",\"Wood, Alex\",\"Wood, Hunter\",\"Woodford, Jake\",\"Woodruff, Brandon\",\"Woods Richardson, Simeon\",\"Wright, Kyle\",\"Wright, Steven\",\"Yacabonis, Jimmy\",\"Yajure, Miguel\",\"Yamamoto, Jordan\",\"Yang, Hyeon-Jong\",\"Yarbrough, Ryan\",\"Ynoa, Gabriel\",\"Ynoa, Huascar\",\"Young, Alex\",\"Zastryzny, Rob\",\"Zerpa, Angel\",\"Zeuch, T.J.\",\"Zimmer, Kyle\",\"Zimmermann, Bruce\",\"Zimmermann, Jordan\",\"deGrom, Jacob\"],\"yaxis\":\"y\",\"type\":\"scatter\"}],                        {\"template\":{\"data\":{\"histogram2dcontour\":[{\"type\":\"histogram2dcontour\",\"colorbar\":{\"outlinewidth\":0,\"ticks\":\"\"},\"colorscale\":[[0.0,\"#0d0887\"],[0.1111111111111111,\"#46039f\"],[0.2222222222222222,\"#7201a8\"],[0.3333333333333333,\"#9c179e\"],[0.4444444444444444,\"#bd3786\"],[0.5555555555555556,\"#d8576b\"],[0.6666666666666666,\"#ed7953\"],[0.7777777777777778,\"#fb9f3a\"],[0.8888888888888888,\"#fdca26\"],[1.0,\"#f0f921\"]]}],\"choropleth\":[{\"type\":\"choropleth\",\"colorbar\":{\"outlinewidth\":0,\"ticks\":\"\"}}],\"histogram2d\":[{\"type\":\"histogram2d\",\"colorbar\":{\"outlinewidth\":0,\"ticks\":\"\"},\"colorscale\":[[0.0,\"#0d0887\"],[0.1111111111111111,\"#46039f\"],[0.2222222222222222,\"#7201a8\"],[0.3333333333333333,\"#9c179e\"],[0.4444444444444444,\"#bd3786\"],[0.5555555555555556,\"#d8576b\"],[0.6666666666666666,\"#ed7953\"],[0.7777777777777778,\"#fb9f3a\"],[0.8888888888888888,\"#fdca26\"],[1.0,\"#f0f921\"]]}],\"heatmap\":[{\"type\":\"heatmap\",\"colorbar\":{\"outlinewidth\":0,\"ticks\":\"\"},\"colorscale\":[[0.0,\"#0d0887\"],[0.1111111111111111,\"#46039f\"],[0.2222222222222222,\"#7201a8\"],[0.3333333333333333,\"#9c179e\"],[0.4444444444444444,\"#bd3786\"],[0.5555555555555556,\"#d8576b\"],[0.6666666666666666,\"#ed7953\"],[0.7777777777777778,\"#fb9f3a\"],[0.8888888888888888,\"#fdca26\"],[1.0,\"#f0f921\"]]}],\"heatmapgl\":[{\"type\":\"heatmapgl\",\"colorbar\":{\"outlinewidth\":0,\"ticks\":\"\"},\"colorscale\":[[0.0,\"#0d0887\"],[0.1111111111111111,\"#46039f\"],[0.2222222222222222,\"#7201a8\"],[0.3333333333333333,\"#9c179e\"],[0.4444444444444444,\"#bd3786\"],[0.5555555555555556,\"#d8576b\"],[0.6666666666666666,\"#ed7953\"],[0.7777777777777778,\"#fb9f3a\"],[0.8888888888888888,\"#fdca26\"],[1.0,\"#f0f921\"]]}],\"contourcarpet\":[{\"type\":\"contourcarpet\",\"colorbar\":{\"outlinewidth\":0,\"ticks\":\"\"}}],\"contour\":[{\"type\":\"contour\",\"colorbar\":{\"outlinewidth\":0,\"ticks\":\"\"},\"colorscale\":[[0.0,\"#0d0887\"],[0.1111111111111111,\"#46039f\"],[0.2222222222222222,\"#7201a8\"],[0.3333333333333333,\"#9c179e\"],[0.4444444444444444,\"#bd3786\"],[0.5555555555555556,\"#d8576b\"],[0.6666666666666666,\"#ed7953\"],[0.7777777777777778,\"#fb9f3a\"],[0.8888888888888888,\"#fdca26\"],[1.0,\"#f0f921\"]]}],\"surface\":[{\"type\":\"surface\",\"colorbar\":{\"outlinewidth\":0,\"ticks\":\"\"},\"colorscale\":[[0.0,\"#0d0887\"],[0.1111111111111111,\"#46039f\"],[0.2222222222222222,\"#7201a8\"],[0.3333333333333333,\"#9c179e\"],[0.4444444444444444,\"#bd3786\"],[0.5555555555555556,\"#d8576b\"],[0.6666666666666666,\"#ed7953\"],[0.7777777777777778,\"#fb9f3a\"],[0.8888888888888888,\"#fdca26\"],[1.0,\"#f0f921\"]]}],\"mesh3d\":[{\"type\":\"mesh3d\",\"colorbar\":{\"outlinewidth\":0,\"ticks\":\"\"}}],\"scatter\":[{\"fillpattern\":{\"fillmode\":\"overlay\",\"size\":10,\"solidity\":0.2},\"type\":\"scatter\"}],\"parcoords\":[{\"type\":\"parcoords\",\"line\":{\"colorbar\":{\"outlinewidth\":0,\"ticks\":\"\"}}}],\"scatterpolargl\":[{\"type\":\"scatterpolargl\",\"marker\":{\"colorbar\":{\"outlinewidth\":0,\"ticks\":\"\"}}}],\"bar\":[{\"error_x\":{\"color\":\"#2a3f5f\"},\"error_y\":{\"color\":\"#2a3f5f\"},\"marker\":{\"line\":{\"color\":\"#E5ECF6\",\"width\":0.5},\"pattern\":{\"fillmode\":\"overlay\",\"size\":10,\"solidity\":0.2}},\"type\":\"bar\"}],\"scattergeo\":[{\"type\":\"scattergeo\",\"marker\":{\"colorbar\":{\"outlinewidth\":0,\"ticks\":\"\"}}}],\"scatterpolar\":[{\"type\":\"scatterpolar\",\"marker\":{\"colorbar\":{\"outlinewidth\":0,\"ticks\":\"\"}}}],\"histogram\":[{\"marker\":{\"pattern\":{\"fillmode\":\"overlay\",\"size\":10,\"solidity\":0.2}},\"type\":\"histogram\"}],\"scattergl\":[{\"type\":\"scattergl\",\"marker\":{\"colorbar\":{\"outlinewidth\":0,\"ticks\":\"\"}}}],\"scatter3d\":[{\"type\":\"scatter3d\",\"line\":{\"colorbar\":{\"outlinewidth\":0,\"ticks\":\"\"}},\"marker\":{\"colorbar\":{\"outlinewidth\":0,\"ticks\":\"\"}}}],\"scattermapbox\":[{\"type\":\"scattermapbox\",\"marker\":{\"colorbar\":{\"outlinewidth\":0,\"ticks\":\"\"}}}],\"scatterternary\":[{\"type\":\"scatterternary\",\"marker\":{\"colorbar\":{\"outlinewidth\":0,\"ticks\":\"\"}}}],\"scattercarpet\":[{\"type\":\"scattercarpet\",\"marker\":{\"colorbar\":{\"outlinewidth\":0,\"ticks\":\"\"}}}],\"carpet\":[{\"aaxis\":{\"endlinecolor\":\"#2a3f5f\",\"gridcolor\":\"white\",\"linecolor\":\"white\",\"minorgridcolor\":\"white\",\"startlinecolor\":\"#2a3f5f\"},\"baxis\":{\"endlinecolor\":\"#2a3f5f\",\"gridcolor\":\"white\",\"linecolor\":\"white\",\"minorgridcolor\":\"white\",\"startlinecolor\":\"#2a3f5f\"},\"type\":\"carpet\"}],\"table\":[{\"cells\":{\"fill\":{\"color\":\"#EBF0F8\"},\"line\":{\"color\":\"white\"}},\"header\":{\"fill\":{\"color\":\"#C8D4E3\"},\"line\":{\"color\":\"white\"}},\"type\":\"table\"}],\"barpolar\":[{\"marker\":{\"line\":{\"color\":\"#E5ECF6\",\"width\":0.5},\"pattern\":{\"fillmode\":\"overlay\",\"size\":10,\"solidity\":0.2}},\"type\":\"barpolar\"}],\"pie\":[{\"automargin\":true,\"type\":\"pie\"}]},\"layout\":{\"autotypenumbers\":\"strict\",\"colorway\":[\"#636efa\",\"#EF553B\",\"#00cc96\",\"#ab63fa\",\"#FFA15A\",\"#19d3f3\",\"#FF6692\",\"#B6E880\",\"#FF97FF\",\"#FECB52\"],\"font\":{\"color\":\"#2a3f5f\"},\"hovermode\":\"closest\",\"hoverlabel\":{\"align\":\"left\"},\"paper_bgcolor\":\"white\",\"plot_bgcolor\":\"#E5ECF6\",\"polar\":{\"bgcolor\":\"#E5ECF6\",\"angularaxis\":{\"gridcolor\":\"white\",\"linecolor\":\"white\",\"ticks\":\"\"},\"radialaxis\":{\"gridcolor\":\"white\",\"linecolor\":\"white\",\"ticks\":\"\"}},\"ternary\":{\"bgcolor\":\"#E5ECF6\",\"aaxis\":{\"gridcolor\":\"white\",\"linecolor\":\"white\",\"ticks\":\"\"},\"baxis\":{\"gridcolor\":\"white\",\"linecolor\":\"white\",\"ticks\":\"\"},\"caxis\":{\"gridcolor\":\"white\",\"linecolor\":\"white\",\"ticks\":\"\"}},\"coloraxis\":{\"colorbar\":{\"outlinewidth\":0,\"ticks\":\"\"}},\"colorscale\":{\"sequential\":[[0.0,\"#0d0887\"],[0.1111111111111111,\"#46039f\"],[0.2222222222222222,\"#7201a8\"],[0.3333333333333333,\"#9c179e\"],[0.4444444444444444,\"#bd3786\"],[0.5555555555555556,\"#d8576b\"],[0.6666666666666666,\"#ed7953\"],[0.7777777777777778,\"#fb9f3a\"],[0.8888888888888888,\"#fdca26\"],[1.0,\"#f0f921\"]],\"sequentialminus\":[[0.0,\"#0d0887\"],[0.1111111111111111,\"#46039f\"],[0.2222222222222222,\"#7201a8\"],[0.3333333333333333,\"#9c179e\"],[0.4444444444444444,\"#bd3786\"],[0.5555555555555556,\"#d8576b\"],[0.6666666666666666,\"#ed7953\"],[0.7777777777777778,\"#fb9f3a\"],[0.8888888888888888,\"#fdca26\"],[1.0,\"#f0f921\"]],\"diverging\":[[0,\"#8e0152\"],[0.1,\"#c51b7d\"],[0.2,\"#de77ae\"],[0.3,\"#f1b6da\"],[0.4,\"#fde0ef\"],[0.5,\"#f7f7f7\"],[0.6,\"#e6f5d0\"],[0.7,\"#b8e186\"],[0.8,\"#7fbc41\"],[0.9,\"#4d9221\"],[1,\"#276419\"]]},\"xaxis\":{\"gridcolor\":\"white\",\"linecolor\":\"white\",\"ticks\":\"\",\"title\":{\"standoff\":15},\"zerolinecolor\":\"white\",\"automargin\":true,\"zerolinewidth\":2},\"yaxis\":{\"gridcolor\":\"white\",\"linecolor\":\"white\",\"ticks\":\"\",\"title\":{\"standoff\":15},\"zerolinecolor\":\"white\",\"automargin\":true,\"zerolinewidth\":2},\"scene\":{\"xaxis\":{\"backgroundcolor\":\"#E5ECF6\",\"gridcolor\":\"white\",\"linecolor\":\"white\",\"showbackground\":true,\"ticks\":\"\",\"zerolinecolor\":\"white\",\"gridwidth\":2},\"yaxis\":{\"backgroundcolor\":\"#E5ECF6\",\"gridcolor\":\"white\",\"linecolor\":\"white\",\"showbackground\":true,\"ticks\":\"\",\"zerolinecolor\":\"white\",\"gridwidth\":2},\"zaxis\":{\"backgroundcolor\":\"#E5ECF6\",\"gridcolor\":\"white\",\"linecolor\":\"white\",\"showbackground\":true,\"ticks\":\"\",\"zerolinecolor\":\"white\",\"gridwidth\":2}},\"shapedefaults\":{\"line\":{\"color\":\"#2a3f5f\"}},\"annotationdefaults\":{\"arrowcolor\":\"#2a3f5f\",\"arrowhead\":0,\"arrowwidth\":1},\"geo\":{\"bgcolor\":\"white\",\"landcolor\":\"#E5ECF6\",\"subunitcolor\":\"white\",\"showland\":true,\"showlakes\":true,\"lakecolor\":\"white\"},\"title\":{\"x\":0.05},\"mapbox\":{\"style\":\"light\"}}},\"xaxis\":{\"anchor\":\"y\",\"domain\":[0.0,1.0],\"title\":{\"text\":\"HP Per Season (2018-23)\"},\"showticklabels\":true},\"yaxis\":{\"anchor\":\"x\",\"domain\":[0.0,1.0],\"title\":{},\"showticklabels\":false},\"legend\":{\"tracegroupgap\":0},\"title\":{\"text\":\"Hammer Points Per Season (2019-2023)\"}},                        {\"responsive\": true}                    ).then(function(){\n",
              "                            \n",
              "var gd = document.getElementById('29eb1634-e29f-4d3d-b8a5-d1815a02c561');\n",
              "var x = new MutationObserver(function (mutations, observer) {{\n",
              "        var display = window.getComputedStyle(gd).display;\n",
              "        if (!display || display === 'none') {{\n",
              "            console.log([gd, 'removed!']);\n",
              "            Plotly.purge(gd);\n",
              "            observer.disconnect();\n",
              "        }}\n",
              "}});\n",
              "\n",
              "// Listen for the removal of the full notebook cells\n",
              "var notebookContainer = gd.closest('#notebook-container');\n",
              "if (notebookContainer) {{\n",
              "    x.observe(notebookContainer, {childList: true});\n",
              "}}\n",
              "\n",
              "// Listen for the clearing of the current output cell\n",
              "var outputEl = gd.closest('.output');\n",
              "if (outputEl) {{\n",
              "    x.observe(outputEl, {childList: true});\n",
              "}}\n",
              "\n",
              "                        })                };                            </script>        </div>\n",
              "</body>\n",
              "</html>"
            ]
          },
          "metadata": {}
        }
      ]
    },
    {
      "cell_type": "code",
      "source": [
        "# Calculate the average Hammer Points\n",
        "average_hammer_points = combined_data['Hammer Points'].mean()\n",
        "\n",
        "print(f\"League average Hammer Points (2018-23): {average_hammer_points:.2f}\")"
      ],
      "metadata": {
        "colab": {
          "base_uri": "https://localhost:8080/"
        },
        "id": "fzexb6ohLDvp",
        "outputId": "4d97d04b-658e-4baf-fd69-88c0fec136c4"
      },
      "execution_count": 22,
      "outputs": [
        {
          "output_type": "stream",
          "name": "stdout",
          "text": [
            "League average Hammer Points (2018-23): 0.09\n"
          ]
        }
      ]
    }
  ],
  "metadata": {
    "colab": {
      "provenance": [],
      "authorship_tag": "ABX9TyPuP2KM0O5bSQuxu5tsjbE/",
      "include_colab_link": true
    },
    "kernelspec": {
      "display_name": "Python 3",
      "name": "python3"
    },
    "language_info": {
      "name": "python"
    }
  },
  "nbformat": 4,
  "nbformat_minor": 0
}